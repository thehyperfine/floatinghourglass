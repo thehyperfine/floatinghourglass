{
 "cells": [
  {
   "cell_type": "markdown",
   "metadata": {},
   "source": [
    "# Floating Hourglass\n",
    "\n",
    "We started by looking at the following animation:\n",
    "\n",
    "![Floating Hourglass](https://i.makeagif.com/media/7-29-2016/Clh8gl.gif)\n",
    "\n",
    "This is very counter intuitive. The total mass and volume of the hourglass is always the same. So it seems that the force of gravity and the bouyant force should always be the same. This would imply that it either always sinks, or always floats. So clearly something else is going on.\n",
    "\n",
    "Derek came up with a theory about how the hourglass could wedge itself against the walls of the container due to an unstable equilibrium. This seemed highly plausible (and turns out to be the right answer). Zak went about seeing if this would happen for some unintuitive reason (which in hindsight was clearly wrong). He did this by first modeling the object as two can stacked like so below.\n",
    "\n",
    "<img src=\"Hourglass-CansStacked.png\" width=500px>\n",
    "\n",
    "The total mass of the system is $M$. The top can has mass $m_T$ and the bottom can mass $m_B$. $M$ can be expressed as the sum of $m_T$ and $m_B$. Since the basic unit of mass in this system is the mass volume of water displaced by a single can, $m_w$, we should express all masses this way. Thus the total mass will become:\n",
    "\n",
    "$$M=\\kappa m_w \\ni \\kappa \\in \\mathbb{R^{+}} \\label{kmass}\\tag{1}$$\n",
    "\n",
    "Thus we have\n",
    "\n",
    "$$ \\kappa m_w = m_T + m_B \\label{kmassSum}\\tag{2}$$\n",
    "\n",
    "Since we are attempting to mimic an hourglass we know that we will be transferring mass from the top can to the bottom can. We will paramaterize how much of the total mass is in the top can using a filling factor $\\lambda$ such that $0 \\leq \\lambda \\leq 1$. This means that all are masses are described by:\n",
    "\n",
    "\\begin{align}\n",
    "    m_T &=\\lambda M \\label{mt}\\tag{3} \\\\\n",
    "    m_B &= (1-\\lambda) M \\label{mb}\\tag{4}\\\\\n",
    "    \\kappa m_w &= \\lambda\\kappa m_w + (1-\\lambda)\\kappa m_w \\label{mass}\\tag{5}\n",
    "\\end{align}\n",
    "\n",
    "$\\ref{mass}$ can be accounted for by combinging $\\ref{kmass}$, $\\ref{kmassSum}$, $\\ref{mt}$ and $\\ref{mb}$.\n",
    "\n",
    "Now we look at the forces on the two cans. Zak started by ignoring the force between the cans to see what situations might arise. We think of this as two cans floating side by side and we will transfer mass from the can on the left $m_T$ to the can on the right $m_B$.\n",
    "\n",
    "<img src=\"Hourglass-CansSide-Forces.png\" width=500px>\n",
    "\n",
    "Let's get a better understanding of $\\kappa$. To start we look at any submerged object. If gravity and the bouyant forces are the only two forces acting on the object, and it is neutrally bouyant, then we know the following.\n",
    "\n",
    "\\begin{align}\n",
    "    -mg+&F_{Bouy} = 0 \\\\\n",
    "    \\Rightarrow F_{Bouy}&=mg \\label{Bouy1} \\tag{6}\n",
    "\\end{align}\n",
    "\n",
    "Then the bouyant force is defined as the following, where $\\rho_w$ is the density of water (since we are using water) and $V$ is the volume of the object.\n",
    "\n",
    "\\begin{align}\n",
    "    F_{Bouy} = \\rho_wVg = m_wg \\label{Bouy2} \\tag{7}\n",
    "\\end{align}\n",
    "\n",
    "The last equality comes from mass being the product of density and volume. Notice though that since it is the density of water and the volume of the object, we get the mass of the water displaced by the object. This is true of any object submerged in water.\n",
    "\n",
    "Now we substitute \\ref{Bouy2} into \\ref{Bouy1} to get the condition for neutral bouyancy:\n",
    "\n",
    "\\begin{align}\n",
    "    m = m_w \\label{Bouy3} \\tag{8}\n",
    "\\end{align}\n",
    "\n",
    "That is to say that the object will be neutrally bouyant when its mass is equal to the mass of the volume of water it has displaced. \n",
    "\n",
    "For us, this means that one of our cans will float when it has equal to $m_w$. This happens for either individual can when it is full and $\\kappa=1$. We can think of $\\kappa$ then as the number of masses of displaced water of a single can. This is why we chose to use this as our basic unit of mass. \n",
    "\n",
    "When $\\kappa=1$ the system (both cans together) will have the same mass as one of the can full. Then while $\\lambda$ varies between 1 and 0 mass will start in the top cand move to the bottom. When $\\lambda=1$ we will meet our neutrl bouyancy condition, \\ref{Bouy3}, for the top can. The bottom will then went float. Once we move any amount of mass from the top can to the bottom, $0<\\lambda<1$, both cans will want to sink. Each will now have a mass less than $m_w$. \n",
    "\n",
    "Since we are transferring mass from the top can to the bottom, we know that when $\\kappa$"
   ]
  },
  {
   "cell_type": "code",
   "execution_count": 3,
   "metadata": {
    "scrolled": false
   },
   "outputs": [
    {
     "data": {
      "application/vnd.jupyter.widget-view+json": {
       "model_id": "26ecf3717646489abcfaab7043fa0750",
       "version_major": 2,
       "version_minor": 0
      },
      "text/plain": [
       "A Jupyter Widget"
      ]
     },
     "metadata": {},
     "output_type": "display_data"
    },
    {
     "data": {
      "application/vnd.jupyter.widget-view+json": {
       "model_id": "6c8e0819bd3448cb807ca80fe08a355c",
       "version_major": 2,
       "version_minor": 0
      },
      "text/plain": [
       "A Jupyter Widget"
      ]
     },
     "metadata": {},
     "output_type": "display_data"
    }
   ],
   "source": [
    "play = widgets.Play(\n",
    "    value = 0,\n",
    "    min=0,\n",
    "    max=50,\n",
    "    step=1,\n",
    "    description=\"Press to view what happens\",\n",
    "    disabled=False\n",
    ")\n",
    "\n",
    "interactive_plot = interactive(int_plot, \n",
    "                               lam=(0.00, 1.00, 0.01),\n",
    "                               kappa=(0.1, 5.0, 0.1), \n",
    "                               scale=(0.0,2.0),\n",
    "                               time=(0.0,50, 1)\n",
    "                              )\n",
    "output = interactive_plot.children[-1]\n",
    "#output.layout.height = \"500px\"\n",
    "interactive_plot.children[0].value = 1\n",
    "interactive_plot.children[1].value = 1\n",
    "interactive_plot.children[2].value = 1\n",
    "interactive_plot.children[3].value = 0\n",
    "widgets.jslink((play, 'value'), (interactive_plot.children[3], 'value'))\n",
    "display(play)\n",
    "interactive_plot"
   ]
  },
  {
   "cell_type": "code",
   "execution_count": 2,
   "metadata": {},
   "outputs": [],
   "source": [
    "from ipywidgets import interactive, widgets\n",
    "import matplotlib.pyplot as plt\n",
    "import matplotlib.patches as pt\n",
    "from IPython.display import display\n",
    "\n",
    "def makeSim(data, lam, kappa, scale, time):\n",
    "    kappa = scale*kappa\n",
    "    rect = pt.Rectangle\n",
    "    vect = pt.Arrow\n",
    "    \n",
    "    width = 3\n",
    "    height = 3\n",
    "    \n",
    "    time = time/10\n",
    "    \n",
    "    fig = plt.figure(figsize=(13,10))\n",
    "    ax = fig.add_subplot(111)\n",
    "    ax.set_xlim(0,10)\n",
    "    ax.set_ylim(-2,14)\n",
    "    ax.set_axis_off()\n",
    "    ax.add_patch(rect((0,0), 10, 10, facecolor=\"#0eb8d6\"))\n",
    "    ax.add_patch(rect((0,-2), 10, 2, facecolor=\"#adaca8\"))\n",
    "    \n",
    "    smallnumber = 1e-12\n",
    "    g= 2#1e-2\n",
    "    at = (1-lam*kappa)/(lam*kappa+smallnumber)*g\n",
    "    ab = (1/((1-lam)*kappa+smallnumber)-1)*g\n",
    "    \n",
    "    for i, datum in enumerate(data):\n",
    "        x = datum[0]\n",
    "        y = datum[1]\n",
    "        if i%2==0:\n",
    "            y = y + 1/2*at*time**2\n",
    "            if y>10+height/2-0.1:\n",
    "                y=10+height/2-0.1\n",
    "            elif y<height/2:\n",
    "                y=height/2\n",
    "            ax.add_patch(rect((x-width/2, y-height/2), \n",
    "                             width, lam*height,\n",
    "                             facecolor=\"#d6880c\"\n",
    "                            )\n",
    "                       )\n",
    "            ax.add_patch(vect(x,y,0,-kappa*lam, 1))\n",
    "            ax.text(x,y, \"$m_T$\", ha=\"center\", va=\"center\", fontsize=30)\n",
    "        else:\n",
    "            y = y + 1/2*ab*time**2\n",
    "            if y>10+height/2-0.1:\n",
    "                y=10+height/2-0.1\n",
    "            elif y<height/2:\n",
    "                y=height/2\n",
    "            ax.add_patch(rect((x-width/2, y-height/2), \n",
    "                             width, (1-lam)*height,\n",
    "                            facecolor=\"#d6880c\"\n",
    "                            )\n",
    "                       )\n",
    "            ax.add_patch(vect(x,y,0,-kappa*(1-lam), 1))\n",
    "            ax.text(x,y, \"$m_B$\", ha=\"center\", va=\"center\", fontsize=30)\n",
    "        \n",
    "        ax.add_patch(rect((x-width/2, y-height/2), \n",
    "                        width, height,\n",
    "                        fill=False,\n",
    "                        linewidth=3\n",
    "                       )\n",
    "                   )\n",
    "        ax.add_patch(vect(x,y,0, scale, 1, color=\"#e52246\"))\n",
    "    \n",
    "    return fig\n",
    "\n",
    "def int_plot(lam, kappa, scale, time):\n",
    "    fig = makeSim([(3,5), (7,5)], lam, kappa, scale, time)"
   ]
  },
  {
   "cell_type": "code",
   "execution_count": 1,
   "metadata": {},
   "outputs": [],
   "source": [
    "%matplotlib inline"
   ]
  },
  {
   "cell_type": "code",
   "execution_count": null,
   "metadata": {},
   "outputs": [],
   "source": [
    "from ipywidgets.embed import embed_minimal_html\n",
    "\n",
    "embed_minimal_html('export.html', views=[play, interactive_plot], title='Widgets export')"
   ]
  },
  {
   "cell_type": "code",
   "execution_count": null,
   "metadata": {},
   "outputs": [],
   "source": []
  },
  {
   "cell_type": "code",
   "execution_count": null,
   "metadata": {},
   "outputs": [],
   "source": []
  }
 ],
 "metadata": {
  "kernelspec": {
   "display_name": "Python 3",
   "language": "python",
   "name": "python3"
  },
  "language_info": {
   "codemirror_mode": {
    "name": "ipython",
    "version": 3
   },
   "file_extension": ".py",
   "mimetype": "text/x-python",
   "name": "python",
   "nbconvert_exporter": "python",
   "pygments_lexer": "ipython3",
   "version": "3.6.4"
  },
  "widgets": {
   "application/vnd.jupyter.widget-state+json": {
    "state": {
     "02b8932c3b59477d8e7c3291d9c4ed0a": {
      "model_module": "@jupyter-widgets/controls",
      "model_module_version": "1.0.0",
      "model_name": "FloatSliderModel",
      "state": {
       "description": "lam",
       "layout": "IPY_MODEL_d5f5cbd187494b239d992667506b07a0",
       "max": 1,
       "step": 0.01,
       "style": "IPY_MODEL_d7c70b12357542a6a69f081fd407e5ef",
       "value": 1
      }
     },
     "0388b0e8a84f419895e480f0bd52729a": {
      "model_module": "@jupyter-widgets/controls",
      "model_module_version": "1.0.0",
      "model_name": "SliderStyleModel",
      "state": {
       "description_width": ""
      }
     },
     "0492fb37db984e1c951d703a8eb32e90": {
      "model_module": "@jupyter-widgets/output",
      "model_module_version": "1.0.0",
      "model_name": "OutputModel",
      "state": {
       "layout": "IPY_MODEL_f8c0cfd0e9b54f7eb2633c0fa62f759a",
       "outputs": [
        {
         "data": {
          "image/png": "iVBORw0KGgoAAAANSUhEUgAAAv8AAAJDCAYAAACc83ssAAAABHNCSVQICAgIfAhkiAAAAAlwSFlz\nAAALEgAACxIB0t1+/AAAADl0RVh0U29mdHdhcmUAbWF0cGxvdGxpYiB2ZXJzaW9uIDIuMS4wLCBo\ndHRwOi8vbWF0cGxvdGxpYi5vcmcvpW3flQAAG31JREFUeJzt3Xmw3eV93/HPOeeeu0hISEKIXewC\nxGIbJBvi2CbglRo7ieuZuO6kaVp74ng6XdI4Tkon081JPHXaqdtO29hD3Lgz7TR27XoSQ5Oxkzg2\nNotsMEgIIQESIAFi0S7ds/WPq9XoXiEBulf6vl7/cIb7nPP7nT/u777P83ueo8ZgMAgAAHDya073\nCQAAAMeH+AcAgCLEPwAAFCH+AQCgCPEPAABFiH8AAChC/AMAQBHiHwAAihD/AABQhPgHAIAixD8A\nABQh/gEAoAjxDwAARYh/AAAoQvwDAEAR4h8AAIoQ/wAAUIT4BwCAIsQ/AAAUIf4BAKAI8Q8AAEWI\nfwAAKEL8AwBAEeIfAACKEP8AAFCE+AcAgCLEPwAAFCH+AQCgCPEPAABFiH8AAChC/AMAQBHiHwAA\nihD/AABQhPgHAIAixD8AABQh/gEAoAjxDwAARYh/AAAoQvwDAEAR4h8AAIoQ/wAAUIT4BwCAIsQ/\nAAAUIf4BAKAI8Q8AAEWIfwAAKEL8AwBAEeIfAACKEP8AAFCE+AcAgCLEPwAAFCH+AQCgCPEPAABF\niH8AAChC/AMAQBHiHwAAihD/AABQhPgHAIAixD8AABQh/gEAoAjxDwAARYh/AAAoQvwDAEAR4h8A\nAIoQ/wAAUIT4BwCAIsQ/AAAUIf4BAKAI8Q8AAEWIfwAAKEL8AwBAEeIfAACKEP8AAFCE+AcAgCLE\nPwAAFCH+AQCgCPEPAABFiH8AAChC/AMAQBHiHwAAihD/AABQhPgHAIAixD8AABQh/gEAoAjxDwAA\nRYh/AAAoQvwDAEAR4h8AAIoQ/wAAUIT4BwCAIsQ/AAAUIf4BAKAI8Q8AAEWIfwAAKEL8AwBAEeIf\nAACKEP8AAFCE+AcAgCLEPwAAFCH+AQCgCPEPAABFiH8AAChC/AMAQBHiHwAAihD/AABQhPgHAIAi\nxD8AABQh/gEAoAjxDwAARYh/AAAoQvwDAEAR4h8AAIoQ/wAAUIT4BwCAIsQ/AAAUIf4BAKAI8Q8A\nAEWIfwAAKEL8AwBAEeIfAACKEP8AAFCE+AcAgCLEPwAAFCH+AQCgCPEPAABFiH8AAChC/AMAQBHi\nHwAAihD/AABQhPgHAIAixD8AABQh/gEAoAjxDwAARYh/AAAoQvwDAEAR4h8AAIoQ/wAAUIT4BwCA\nIsQ/AAAUIf4BAKAI8Q8AAEWIfwAAKEL8AwBAEeIfAACKEP8AAFCE+AcAgCKGpuOgp965ajAdxwUA\ngJPFlvdc0Tja55j5BwCAIsQ/AAAUIf4BAKAI8Q8AAEWIfwAAKEL8AwBAEeIfAACKEP8AAFCE+AcA\ngCLEPwAAFCH+AQCgCPEPAABFiH8AAChC/AMAQBHiHwAAihD/AABQhPgHAIAixD8AABQh/gEAoAjx\nDwAARYh/AAAoQvwDAEAR4h8AAIoQ/wAAUIT4BwCAIsQ/AAAUIf4BAKAI8Q8AAEWIfwAAKEL8AwBA\nEeIfAACKEP8AAFCE+AcAgCLEPwAAFCH+AQCgCPEPAABFiH8AAChC/AMAQBHiHwAAihD/AABQhPgH\nAIAixD8AABQh/gEAoAjxDwAARYh/AAAoQvwDAEAR4h8AAIoQ/wAAUIT4BwCAIsQ/AAAUIf4BAKAI\n8Q8AAEWIfwAAKEL8AwBAEeIfAACKEP8AAFCE+AcAgCLEPwAAFCH+AQCgCPEPAABFiH8AAChC/AMA\nQBHiHwAAihD/AABQhPgHAIAixD8AABQh/gEAoAjxDwAARYh/AAAoQvwDAEAR4h8AAIoQ/wAAUIT4\nBwCAIsQ/AAAUIf4BAKAI8Q8AAEWIfwAAKEL8AwBAEeIfAACKEP8AAFCE+AcAgCLEPwAAFCH+AQCg\nCPEPAABFiH8AAChC/AMAQBHiHwAAihD/AABQhPgHAIAixD8AABQh/gEAoAjxDwAARYh/AAAoQvwD\nAEAR4h8AAIoQ/wAAUIT4BwCAIsQ/AAAUIf4BAKAI8Q8AAEWIfwAAKEL8AwBAEeIfAACKEP8AAFCE\n+AcAgCLEPwAAFCH+AQCgCPEPAABFiH8AAChC/AMAQBHiHwAAihD/AABQhPgHAIAixD8AABQh/gEA\noAjxDwAARYh/AAAoYmi6T4CZb+t7l073KUAZc+9YOd2nMCO5DsHx5Vp08jLzDwAARYh/AAAowrIf\njsrK3z1luk8BTjpLP719uk/hhGI5Arw+LK+rwcw/AAAUIf4BAKAI8Q8AAEWIfwAAKEL8AwBAEeIf\nAACKEP8AAFCE+AcAgCLEPwAAFCH+AQCgCPEPAABFiH8AAChC/AMAQBFD030CwGtokDSfn52hjXPT\nO317eou2+YgPHHeLn30ub3toVdYvWpjvL1mSTltuwEzhtxFOdP2ktWlu2msXpr3utDR6zWTQSJr9\nJEln8YvpXLI53XO2JEP9aT5Z4KQ0GOTK9Rvy7h/en/ffsyLzt29PI0mn1Uq71833L1uSbyy/Ln91\n1dJsHxub7rOF0sQ/nIg6zQw9OS/tRxemvWF+Bo1BGt1mGoODpvl7E4/baxemvX5+0m+me9aWiQ8C\ni1/MYLQ7TScPnAza3W6Wr1mb9927Iu+6/4EM9fppdzsZ7h2YZBjtdJIkNz64MsvWrM1wt5uVi8/N\n19+yPN+65qo8O2/edJ0+lCX+4QTR2DWUoScWZHjN6Wk9MyeDVj+NTiuNNNKY6nlpJJ2JX/X2k/Mz\ntGlO0r84vQU70rn0uXQufCGDU8aPz5sATmizdu/O21Y+nPfffW/eump1eq1mxvaMpzUYHPG5p+zZ\nkyR542NPZMlTT+fTf/y1PHXagnxj+XX5sze9IWvPPCNpTHU1A14L4h9msObWkQw9tiDDaxal+dJY\n0hyk0W0lSRr9Y1vM3+hO/NoPbZ6T1kuzMnr3BenP3rP/g0B//s5M+WkCKGXhlq35mR8/lA/84J5c\n88QTGW8N7Q/5dI7tNWeNTzzxomeeza/c8Wf5+P/782wbHcs3r3tT7rj2jbn/wvMzaNqwBK8H8Q8z\nyd4Nu+11p2X40YVp7GonSRq9ieDPa7xkf98HidbWsTR/eG5G7j8ng3YvnYs2p3PR8+mdYcMwVHTB\nM8/mnT96IB+4+94sfm5zus1mZo9P3CEc7vZe02ONdCeWII6Nd/LRv/xOPvS972fQaORb11yVP112\nbb5/2aUZb7df02NCZeIfplu/kdbGuWmvPS3tx/Zu2O03jnlm/1g1+s2kP/GBYHjlmRl+ZFGSRjqL\nX0jn4s3pnmvDMJysGv1+rlq/Ie9Z8aPccu8PM2/HjjQGg4zuDfOR43QeQ/3+/rsKt959b2564Mdp\n93r5wZJL8403L8tfXXlFts2adZzOBk5O4h+mUWvTKZn9zaVp7F2TP2j2M2j1k9Zg4r9TaPQbB+4I\nHIVBo5/BK4z4Rj8ZXnt6hteenkGrn53vWJPuJc8f9TGBmWvhlq352mc+m9O2bU+SdJvN7BoeziDJ\n+NDUmTDU72fW+LHtGdo6OvqKxvUbzbzjoVV5x0Or0ms08h//xnvzX255zzEdExD/MK1683dl501r\njvp5zW0jGb1ncXIsd9+H+hm/ctPEkp6j1Fu44xgOCMxkL50yO7f97Y8c9fOGer38+z+4/ZiO2U/y\nF1dfmW8uu/aon/vE6QuP6ZjABPEP02mkl+75Lx7105rPv7rb3r2F24/puMDJp9tq5S+uvvKon9fu\nvrqvC37szDOO6bjAq2MrHwAAFCH+AQCgCPEPAABFiH8AAChC/AMAQBHiHwAAihD/AABQhPgHAIAi\nxD8AABQh/gEAoAjxDwAARYh/AAAoQvwDAEAR4h8AAIoYmu4TAA516+/vzNpn+zlvQSN3fmp2do4P\n8tV7OvnmA908vrmf8W5y/rzd+aU8nY/MOi/NRmP/cx8d35H/vnVDvrPr+Wzo7spwo5nrRubl1+Zf\nnDeOnjqN7wo40Wz/+K3pr1+bxlnnZc7td2awe2c6d341nb/8ZvpPPZ6Mj+eWXit/Z+65+YU557gW\nwQlC/MMMsqczyOOb+0mSS85o5v71vXzqf+7OhhcGh4xb+Uw3n8rDWTV3R/71wivSHwzy+Zcey++/\nuDbdHBi7a9DPt3Ztznd3v5D/ddayLB+dd1zfD3BiGozvSf/Jx5MkrcWXpPvw/dn1e5/KYOOGQ8Y9\nmOTXN6/MyvFtR3Utus61CKaN+IcZ5JFN/fQm2j/j3eRjX9yVXj/58JuHcu35rXT7ybdXdfOtlb0k\nye1bN+Sjc8/N7VvW539seyoXt2flQ6ecnQvaY9nY3ZPbt67Pk93d2TPo5189vzr/95y3TOO7A04U\n/cceSfoT15lBZzw7f+tjSa+X9vs+nNaV1ya9bnp3fSud7387ydFfi77mWgTTRvzDDPLwxv7+x99d\n08sVZzfz+V8czdnzDmzP+dDydn7jS518Y9WeJMmvPvNAHunsyCdPvSC/seDStA669f7hOWfn7Ru+\nm5f6nazYsyVb+53MyYGfAxxOb93DBx6v+G6aF1+RWb/9+TQXnb3//7dv/mDe/gvvyf/ZvjHJ0V+L\ngOlhwy/MIA8/fSD+z57XyBf+3tgh4b/PB64c3f/4kc6O/NLc8/Jbpy055I9tkpzWGs6NY6clSQZJ\nnuuOvz4nDpxUemsPxH9j0dmZ9ZkvHBL++/z8nAP/72iuRZtdi2DaiH+YQVY93dv/+DdvHcn82Yef\npZ8/duBX98zWSG5bsGTS15zfau9/PNLwKw8cWX/tqv2PRz/xm2meOv+w4w6+vhzNtWjYtQimjWU/\nMEMMBoM8smli5v/seY3ctLQ16diNWw/cIfjInHMy1px87IburiRJK42cMTSSZOK57/7sjjz5ExuJ\nj+Svb5udBadYNgQns8FgkN7jjySZmPUfuv6mScc+3dm9//HRX4sOtfsPPpvxr/zhy584MprmOeen\nfdOtGf65X0yjJV3g1fAbBDPEE5sH2bn3Tvhbl7TSaEwe2auf6+5/fOOshVO+7urx7UmSi9qz0m40\nM0g/nf4gyy5sZdkFh4793qO9PLt1kGsvaGbxgkNn5maNNIQ/FNB/6olk184kydB1b53yWrRqfNv+\nx0d7LfpJ+5YaDS1/Wxqn7l0i1O2k/9QT6a95MHvWrc7g2Y0Z/dV/dnRvCDiE+IcZYtXGA0t+rj53\n8tmzJFn57MRmuaE0ctXwnEnHbel1sqE7MTN31ciBce1mI5/58OjLxt/yb3ckSf7Ru0ey7KKpzwE4\nOfXXHVjy01py9ZRjH9yzNcmxX4sOOe5jq5Mko//gt1+2v2DPV7+UPf/t9zJ+xx9n5O//ehrDw0d+\nI8BhWXQHM8Sqgzb7Lj1n6l/NVc9MzPxfOjw7o1PcZn/ooFm5q4bnTvmau8YHWf/8xDKgJWe5NEBV\nvUcPiv9Llk45dt815tVei/rPbcpgy4vJ2Kw0Tj/rZT9v3/T+iQfjezLYvmXKcwKmZuYfZoh93/Qz\n1Jr4B74m89KOQTZumxh75fCcDDL5uv19s3LJxGzbIIOkd/jXfmRTP/1Bcta8RuaOWd4DVe3/ms+h\noTQvuGTScf2tL+XpvbP5S4fnpjfF8qAfHxT/S0fmZvATY3vrJmb9m4svPuwyo8H2vc8fGU1j/tTL\ni4CpiX+YIfZ9x/8li5oZHpr8j+jKg74RaOsF1+S/XnT9pGO/vuLZ5IWJx/e84eY8ODyWU5tbcst5\nd79s7L7Nxpeb9YfS+nvX3jfPvySN9uTLa/bs3RScJC9c95b8hzfdOOnYP73zy8nzE4//+oM/n/tG\nZ+frb1l+4Jh7lxq1Fl982Od3vv2NJEn7re+acg8CcGTiH2aAzdv62bxtYgb/irOPsOTnoOVB91/z\nM1l93lWTjn36ri8lSVpzF+V/v+HtSZILmutzS7v/srGr9374uEz8Q1n9Fzdn8OLmJEnr4iumHNs7\n6OtAf/D+n8t9Vy+bdOz2r/2nJBPfHvRHP/uzh3mtvR84Dor/QbeT/jNPpXPnVzP+lT9M85zzM/LL\n/+SVvxngsMQ/zABHtd7/oLHDiy6adNyg20nn+Scnxp0x+bh9Ht674fiys2z0haoO/n7/I6333783\noNFI66LLJx03GB9P/8l1e1/z8B8o+nuXGu354uey54ufO/SHzVaGP/zLGfmbfzeNOfOO9BaAIxD/\nMAPsW/KTJFecfYRv+nlqItJPmb8gzZFZk44b3/xE0p/YGDx8xuFvpR9szd5lP5edaeYfqjr4X/Zt\nHmHmv//oyolxZ52XxuxTJh/3xJqkO3EtOtzdhMHunelv3JAkab/zg0kmlvUMep0Mnnk6vVU/yvjX\nv5zWRZen/Y73HdX7AV5O/MMMsG+zb7Mx9bKbHXsOfCPP/LPOnPI1x59Zt//xkWb+n3qhn227k7F2\nsvg062mhqv2bfZvNtC66bNJxg1070t+4fmLoke4QHOEDRW/d6mQwSGPRWRn7p7/zsp937/1Odv7z\nX8muf3dbWm+6Ic25Zv/h1TDFBzPAviU35y9sZPbIFP+418aJb+RJkvlnTB3/nWfX7n88vGjqmf99\ndx4uPbOZZlP8Q1X7N/uefX4aY7MnHddbtzrpT1w3jmZvwOHG7jvmZEuHhpa9beLrP3fvSv+RB6d+\nA8ARmfmHGeBPfm3yP7IHu/aCVlb+7sTt9X+5/adzV2fysQve9YkseNcnXtHr2uwLJMkpX/iTVzRu\n6MprM/eOla9o7Ngnb8vYJ2+b9Of77jY0L55830CjPZxBkkG/N+kY4JXxlx7I6v2bfV0SgONrX/y3\nLppkM/CmpyaWGB1hYzHwyvhLD2T1vs2+vukHOI4G/X76jz+aJGkdZua/t2Fddv6bf5z0+xm68ZY0\nF55xvE8RTjqW/UBxO/YMsuGFiY0EvukHOJ76Tz6W7NmVJNnz5f+8//8POnvS3/Rk+mtWJv1eWtf9\ndMb+4b+YrtOEk4r4h+LWbOpnMEjOmd/IKaM2+wLHT3/d6v2PO3/+tQM/aA+nMW9Bhm64Ke2bb037\np945DWcHJyfxD8W98fwDm4gBjqf2jbekfeMt030aUIp7/AAAUIT4BwCAIsQ/AAAUIf4BAKAI8Q8A\nAEWIfwAAKEL8AwBAEeIfAACKEP8AAFCE+AcAgCLEPwAAFCH+AQCgCPEPAABFiH8AAChC/AMAQBFD\n030CUNlgkKzuXZK7OsuyonNNdg9GXvFzn+8vOKZjPtU/Mx/b8rlXPH6o0c01QytzQ/veXD20Kq1G\n/5iOCwBMP/EP06jRSC4fejSXDz2avzX6lazoXJO7Osvyg8512TqY+7ocs5PhPNk/Z8oxY9mZ5e37\nc/3wvXlze0VmN3a9LucCABxf4h9miJFGJzcM35cbhu9Lb9DIyu5luauzPHd1lmVT/4zX/fjzGy/m\n+vZ9uWH43rxx6MdpN3qv+zEBgONL/MMM1GoMcnX74Vzdfjgfzx/lse7ifK+zLHd1lmdt78LX7Djn\nNJ/ODe1781PD9+Ty1po0Gq/ZSwMAM5D4hxPAhUPrc+HQ+nx07Kt5tn9a7hqfuCPwYPfy9I7i17iR\nfpa01uWG9j25YfieLG49/TqeNQAw04h/OMEsaj6fD47ekQ+O3pFt/dm5u3Nt7uosy32dN2R3Rl82\nfiidvGHoodwwfG+ub9+X05ovTsNZAwAzgfiHE9ic5o7cPPKd3DzynYwP2lnRuTp3dZbnge7SLGmt\nzQ3D92R5+0c27AIAScQ/nDSGG51cP7wi1w+vmO5TAQBmKP/IFwAAFCH+AQCgCPEPAABFiH8AAChC\n/AMAQBHiHwAAihD/AABQhPgHAIAixD8AABQh/gEAoAjxDwAARYh/AAAoQvwDAEAR4h8AAIoQ/wAA\nUMTQdJ8AJ5aln94+3acAFLf1vUun+xQATlhm/gEAoAjxDwAARVj2wxHNvWPldJ8CUJzrEMBrw8w/\nAAAUIf4BAKAI8Q8AAEWIfwAAKEL8AwBAEeIfAACKEP8AAFCE+AcAgCLEPwAAFCH+AQCgCPEPAABF\niH8AAChC/AMAQBHiHwAAihD/AABQhPgHAIAixD8AABQh/gEAoAjxDwAARYh/AAAoQvwDAEAR4h8A\nAIoQ/wAAUIT4BwCAIsQ/AAAUIf4BAKAI8Q8AAEWIfwAAKEL8AwBAEeIfAACKEP8AAFCE+AcAgCLE\nPwAAFCH+AQCgCPEPAABFiH8AAChC/AMAQBHiHwAAihD/AABQhPgHAIAixD8AABQh/gEAoAjxDwAA\nRYh/AAAoQvwDAEAR4h8AAIoQ/wAAUIT4BwCAIsQ/AAAUIf4BAKAI8Q8AAEWIfwAAKEL8AwBAEeIf\nAACKEP8AAFCE+AcAgCLEPwAAFCH+AQCgCPEPAABFiH8AAChC/AMAQBHiHwAAihD/AABQhPgHAIAi\nxD8AABQh/gEAoAjxDwAARYh/AAAoQvwDAEAR4h8AAIoQ/wAAUIT4BwCAIsQ/AAAUIf4BAKAI8Q8A\nAEWIfwAAKEL8AwBAEeIfAACKEP8AAFCE+AcAgCLEPwAAFCH+AQCgCPEPAABFiH8AAChC/AMAQBHi\nHwAAihD/AABQhPgHAIAixD8AABQh/gEAoAjxDwAARYh/AAAoQvwDAEAR4h8AAIoQ/wAAUIT4BwCA\nIsQ/AAAUIf4BAKAI8Q8AAEWIfwAAKEL8AwBAEeIfAACKEP8AAFCE+AcAgCLEPwAAFCH+AQCgCPEP\nAABFiH8AAChC/AMAQBHiHwAAihD/AABQhPgHAIAixD8AABQh/gEAoAjxDwAARYh/AAAoYmg6Dnr7\n9gem47AAAHASueKon2HmHwAAihD/AABQhPgHAIAixD8AABQh/gEAoAjxDwAARYh/AAAoQvwDAEAR\n4h8AAIoQ/wAAUIT4BwCAIsQ/AAAUIf4BAKAI8Q8AAEWIfwAAKEL8AwBAEeIfAACKEP8AAFCE+AcA\ngCLEPwAAFCH+AQCgCPEPAABFiH8AAChC/AMAQBHiHwAAihD/AABQhPgHAIAixD8AABQh/gEAoAjx\nDwAARYh/AAAoQvwDAEAR4h8AAIoQ/wAAUIT4BwCAIsQ/AAAUIf4BAKAI8Q8AAEWIfwAAKEL8AwBA\nEeIfAACKEP8AAFCE+AcAgCLEPwAAFCH+AQCgCPEPAABFiH8AAChC/AMAQBHiHwAAihD/AABQhPgH\nAIAixD8AABQh/gEAoAjxDwAARYh/AAAoQvwDAEAR4h8AAIoQ/wAAUIT4BwCAIsQ/AAAUIf4BAKAI\n8Q8AAEWIfwAAKEL8AwBAEeIfAACKEP8AAFCE+AcAgCIag8Fgus8BAAA4Dsz8AwBAEeIfAACKEP8A\nAFCE+AcAgCLEPwAAFCH+AQCgCPEPAABFiH8AAChC/AMAQBHiHwAAihD/AABQhPgHAIAixD8AABQh\n/gEAoAjxDwAARYh/AAAoQvwDAEAR4h8AAIoQ/wAAUIT4BwCAIsQ/AAAUIf4BAKAI8Q8AAEX8fw23\nZTZ81rCrAAAAAElFTkSuQmCC\n",
          "text/plain": "<matplotlib.figure.Figure at 0x1c7a64bdbe0>"
         },
         "metadata": {},
         "output_type": "display_data"
        }
       ]
      }
     },
     "051432c88c114c6b9a0813d22df074e8": {
      "model_module": "@jupyter-widgets/base",
      "model_module_version": "1.0.0",
      "model_name": "LayoutModel",
      "state": {}
     },
     "066b961cd2c94ec699990f2b8f8fa56f": {
      "model_module": "@jupyter-widgets/controls",
      "model_module_version": "1.0.0",
      "model_name": "SliderStyleModel",
      "state": {
       "description_width": ""
      }
     },
     "084b2e9efefd4ecf916af05459976d26": {
      "model_module": "@jupyter-widgets/controls",
      "model_module_version": "1.0.0",
      "model_name": "FloatSliderModel",
      "state": {
       "description": "lam",
       "layout": "IPY_MODEL_9e4428489a2346799e7a2b14a2c9945a",
       "max": 1,
       "step": 0.01,
       "style": "IPY_MODEL_265fb93a774747d6814904515b504917",
       "value": 1
      }
     },
     "0f80852e61514a4f94f3f5c52c56e965": {
      "model_module": "@jupyter-widgets/base",
      "model_module_version": "1.0.0",
      "model_name": "LayoutModel",
      "state": {}
     },
     "15b2a3cbfe164d70902e1fcd148dee05": {
      "model_module": "@jupyter-widgets/base",
      "model_module_version": "1.0.0",
      "model_name": "LayoutModel",
      "state": {}
     },
     "15cfcd1bf0714625a57c50b10f12d062": {
      "model_module": "@jupyter-widgets/controls",
      "model_module_version": "1.0.0",
      "model_name": "PlayModel",
      "state": {
       "description": "Press to view what happens",
       "layout": "IPY_MODEL_051432c88c114c6b9a0813d22df074e8",
       "max": 50,
       "style": "IPY_MODEL_725400d22a0642cb953ff0abde598dfb"
      }
     },
     "17343b14e5484a0fbca94f37fe16544a": {
      "model_module": "@jupyter-widgets/base",
      "model_module_version": "1.0.0",
      "model_name": "LayoutModel",
      "state": {}
     },
     "1790bdc256f04796884ba3a26479a1a6": {
      "model_module": "@jupyter-widgets/controls",
      "model_module_version": "1.0.0",
      "model_name": "FloatSliderModel",
      "state": {
       "description": "scale",
       "layout": "IPY_MODEL_387b8e77c9e247768c247c4c95ef5c31",
       "max": 2,
       "step": 0.1,
       "style": "IPY_MODEL_0388b0e8a84f419895e480f0bd52729a",
       "value": 1
      }
     },
     "18871a235d414ee6a1f89a2b0dcb9ade": {
      "model_module": "@jupyter-widgets/controls",
      "model_module_version": "1.0.0",
      "model_name": "FloatSliderModel",
      "state": {
       "description": "kappa",
       "layout": "IPY_MODEL_f0d383ffb03f48f7a5a825b0dae92df2",
       "max": 5,
       "min": 0.1,
       "step": 0.1,
       "style": "IPY_MODEL_a0858ec39bfd4408b55fa3223a9cc8fa",
       "value": 1
      }
     },
     "1b1fecc6da85402898497b6c10714580": {
      "model_module": "@jupyter-widgets/base",
      "model_module_version": "1.0.0",
      "model_name": "LayoutModel",
      "state": {}
     },
     "1e4e9e6e8f2c4b1cbc4226a14f798b9c": {
      "model_module": "@jupyter-widgets/controls",
      "model_module_version": "1.0.0",
      "model_name": "SliderStyleModel",
      "state": {
       "description_width": ""
      }
     },
     "225d0de74e874fa48aa2d289fe00dacb": {
      "model_module": "@jupyter-widgets/controls",
      "model_module_version": "1.0.0",
      "model_name": "FloatSliderModel",
      "state": {
       "description": "kappa",
       "layout": "IPY_MODEL_ae8629bdb43448769650eddf121da93d",
       "max": 5,
       "min": 0.1,
       "step": 0.1,
       "style": "IPY_MODEL_9f3efdc780ed4f2b9f2becefa7e1ade6",
       "value": 1
      }
     },
     "265fb93a774747d6814904515b504917": {
      "model_module": "@jupyter-widgets/controls",
      "model_module_version": "1.0.0",
      "model_name": "SliderStyleModel",
      "state": {
       "description_width": ""
      }
     },
     "26ecf3717646489abcfaab7043fa0750": {
      "model_module": "@jupyter-widgets/controls",
      "model_module_version": "1.0.0",
      "model_name": "PlayModel",
      "state": {
       "description": "Press to view what happens",
       "layout": "IPY_MODEL_360287e54fc94be3b4d61416dd7c5eca",
       "max": 50,
       "style": "IPY_MODEL_5089f14bf0bd43378045aafeaa247fd5"
      }
     },
     "274801026781453587b7bcbe58b35388": {
      "model_module": "@jupyter-widgets/base",
      "model_module_version": "1.0.0",
      "model_name": "LayoutModel",
      "state": {}
     },
     "277f938144fe4816b8eac5d5ab0fade1": {
      "model_module": "@jupyter-widgets/controls",
      "model_module_version": "1.0.0",
      "model_name": "SliderStyleModel",
      "state": {
       "description_width": ""
      }
     },
     "2b85c966b2e443c9b8e344770286d318": {
      "model_module": "@jupyter-widgets/controls",
      "model_module_version": "1.0.0",
      "model_name": "SliderStyleModel",
      "state": {
       "description_width": ""
      }
     },
     "2d3eb73af2da4e2fa7b5527ead6ef957": {
      "model_module": "@jupyter-widgets/base",
      "model_module_version": "1.0.0",
      "model_name": "LayoutModel",
      "state": {}
     },
     "323abf51e11747239ecac37c71e44e9d": {
      "model_module": "@jupyter-widgets/controls",
      "model_module_version": "1.0.0",
      "model_name": "SliderStyleModel",
      "state": {
       "description_width": ""
      }
     },
     "360287e54fc94be3b4d61416dd7c5eca": {
      "model_module": "@jupyter-widgets/base",
      "model_module_version": "1.0.0",
      "model_name": "LayoutModel",
      "state": {}
     },
     "387b8e77c9e247768c247c4c95ef5c31": {
      "model_module": "@jupyter-widgets/base",
      "model_module_version": "1.0.0",
      "model_name": "LayoutModel",
      "state": {}
     },
     "3a554479fd2645b28a1879709bea2dc2": {
      "model_module": "@jupyter-widgets/controls",
      "model_module_version": "1.0.0",
      "model_name": "FloatSliderModel",
      "state": {
       "description": "time",
       "layout": "IPY_MODEL_bdec7620a3df412c9704948033570773",
       "max": 50,
       "style": "IPY_MODEL_066b961cd2c94ec699990f2b8f8fa56f"
      }
     },
     "3bca3e1dae9248d1b060e6b9b2d8ad71": {
      "model_module": "@jupyter-widgets/controls",
      "model_module_version": "1.0.0",
      "model_name": "DescriptionStyleModel",
      "state": {
       "description_width": ""
      }
     },
     "3e4cb1d1ee8c4c549f996e14a5172d8f": {
      "model_module": "@jupyter-widgets/base",
      "model_module_version": "1.0.0",
      "model_name": "LayoutModel",
      "state": {}
     },
     "401200d683234f029d1a40da3404cfb6": {
      "model_module": "@jupyter-widgets/controls",
      "model_module_version": "1.0.0",
      "model_name": "PlayModel",
      "state": {
       "description": "Press to view what happens",
       "layout": "IPY_MODEL_f44a81f7a4dc43e2994f7dab58e38553",
       "max": 50,
       "style": "IPY_MODEL_68d90761239a4dfdbcee36fbb5cdf656"
      }
     },
     "42bd440c33d94789bf0fb91488859d30": {
      "model_module": "@jupyter-widgets/controls",
      "model_module_version": "1.0.0",
      "model_name": "FloatSliderModel",
      "state": {
       "description": "time",
       "layout": "IPY_MODEL_fe0e0b406fd14d1781a4ad123d5565bb",
       "max": 50,
       "style": "IPY_MODEL_323abf51e11747239ecac37c71e44e9d"
      }
     },
     "44db15c55cc5429ca2cb6e527b75581d": {
      "model_module": "@jupyter-widgets/controls",
      "model_module_version": "1.0.0",
      "model_name": "VBoxModel",
      "state": {
       "_dom_classes": [
        "widget-interact"
       ],
       "children": [
        "IPY_MODEL_084b2e9efefd4ecf916af05459976d26",
        "IPY_MODEL_18871a235d414ee6a1f89a2b0dcb9ade",
        "IPY_MODEL_f5297ea86b4b45dfb3ff08bf3b1d731f",
        "IPY_MODEL_fd383ebd05fa47d2a631045c12961c07",
        "IPY_MODEL_a06ecdd894c8456496566c2d5ddca203"
       ],
       "layout": "IPY_MODEL_49d32063b0384903afd29e46d61dfb86"
      }
     },
     "49d32063b0384903afd29e46d61dfb86": {
      "model_module": "@jupyter-widgets/base",
      "model_module_version": "1.0.0",
      "model_name": "LayoutModel",
      "state": {}
     },
     "4f1efc1049a0439890c611eb4493c095": {
      "model_module": "@jupyter-widgets/base",
      "model_module_version": "1.0.0",
      "model_name": "LayoutModel",
      "state": {}
     },
     "5089f14bf0bd43378045aafeaa247fd5": {
      "model_module": "@jupyter-widgets/controls",
      "model_module_version": "1.0.0",
      "model_name": "DescriptionStyleModel",
      "state": {
       "description_width": ""
      }
     },
     "5344326468294b7bac0e4d662d256d8e": {
      "model_module": "@jupyter-widgets/base",
      "model_module_version": "1.0.0",
      "model_name": "LayoutModel",
      "state": {}
     },
     "56fdee04db2b4f0eaee5cd94809b57c8": {
      "model_module": "@jupyter-widgets/base",
      "model_module_version": "1.0.0",
      "model_name": "LayoutModel",
      "state": {}
     },
     "5cf2d8a539f347af876c1db17e1a2c16": {
      "model_module": "@jupyter-widgets/controls",
      "model_module_version": "1.0.0",
      "model_name": "FloatSliderModel",
      "state": {
       "description": "lam",
       "layout": "IPY_MODEL_e286bb58ede64a02b0df7fccf2fce1aa",
       "max": 1,
       "step": 0.01,
       "style": "IPY_MODEL_d299eee8f8514bf0a2b80a46a9aefbd4",
       "value": 1
      }
     },
     "5d0013ff089841d687035c8a465cc5d2": {
      "model_module": "@jupyter-widgets/base",
      "model_module_version": "1.0.0",
      "model_name": "LayoutModel",
      "state": {}
     },
     "5d41c8b005e248919954ddb24e3121a0": {
      "model_module": "@jupyter-widgets/controls",
      "model_module_version": "1.0.0",
      "model_name": "FloatSliderModel",
      "state": {
       "description": "scale",
       "layout": "IPY_MODEL_3e4cb1d1ee8c4c549f996e14a5172d8f",
       "max": 2,
       "step": 0.1,
       "style": "IPY_MODEL_86c7fde7ae2d45809da5ff8f58bd1bc2",
       "value": 1
      }
     },
     "637fe16ee8e847ceada6e158e88435a9": {
      "model_module": "@jupyter-widgets/base",
      "model_module_version": "1.0.0",
      "model_name": "LayoutModel",
      "state": {}
     },
     "68d90761239a4dfdbcee36fbb5cdf656": {
      "model_module": "@jupyter-widgets/controls",
      "model_module_version": "1.0.0",
      "model_name": "DescriptionStyleModel",
      "state": {
       "description_width": ""
      }
     },
     "6af20cdfe96a4e2d9a3903612cd7f8ca": {
      "model_module": "@jupyter-widgets/controls",
      "model_module_version": "1.0.0",
      "model_name": "SliderStyleModel",
      "state": {
       "description_width": ""
      }
     },
     "6c8e0819bd3448cb807ca80fe08a355c": {
      "model_module": "@jupyter-widgets/controls",
      "model_module_version": "1.0.0",
      "model_name": "VBoxModel",
      "state": {
       "_dom_classes": [
        "widget-interact"
       ],
       "children": [
        "IPY_MODEL_02b8932c3b59477d8e7c3291d9c4ed0a",
        "IPY_MODEL_75b682b258714a92beb76e11fd0cf691",
        "IPY_MODEL_1790bdc256f04796884ba3a26479a1a6",
        "IPY_MODEL_3a554479fd2645b28a1879709bea2dc2",
        "IPY_MODEL_0492fb37db984e1c951d703a8eb32e90"
       ],
       "layout": "IPY_MODEL_e54adf0e576c48f1baff606cf4eb71f8"
      }
     },
     "6fe8166755d142a4b3c43b2403b0ea5b": {
      "model_module": "@jupyter-widgets/controls",
      "model_module_version": "1.0.0",
      "model_name": "SliderStyleModel",
      "state": {
       "description_width": ""
      }
     },
     "71dd1b26e92b4ea5aa0d1d2621174867": {
      "model_module": "@jupyter-widgets/controls",
      "model_module_version": "1.0.0",
      "model_name": "FloatSliderModel",
      "state": {
       "description": "lam",
       "layout": "IPY_MODEL_5344326468294b7bac0e4d662d256d8e",
       "max": 1,
       "step": 0.01,
       "style": "IPY_MODEL_81899cdf43dc4850a4465b631c6f1d0b",
       "value": 1
      }
     },
     "725400d22a0642cb953ff0abde598dfb": {
      "model_module": "@jupyter-widgets/controls",
      "model_module_version": "1.0.0",
      "model_name": "DescriptionStyleModel",
      "state": {
       "description_width": ""
      }
     },
     "727fba162c744bf6b2cdc24f50ad47f9": {
      "model_module": "@jupyter-widgets/output",
      "model_module_version": "1.0.0",
      "model_name": "OutputModel",
      "state": {
       "layout": "IPY_MODEL_7ac19844168747aaa0056df16e0df18a",
       "outputs": [
        {
         "data": {
          "image/png": "iVBORw0KGgoAAAANSUhEUgAAAv8AAAJDCAYAAACc83ssAAAABHNCSVQICAgIfAhkiAAAAAlwSFlz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\nZTZ81rCrAAAAAElFTkSuQmCC\n",
          "text/plain": "<matplotlib.figure.Figure at 0x1babd4534e0>"
         },
         "metadata": {},
         "output_type": "display_data"
        }
       ]
      }
     },
     "740ca05864f4453aa4e5ca782c94d201": {
      "model_module": "@jupyter-widgets/controls",
      "model_module_version": "1.0.0",
      "model_name": "SliderStyleModel",
      "state": {
       "description_width": ""
      }
     },
     "75b682b258714a92beb76e11fd0cf691": {
      "model_module": "@jupyter-widgets/controls",
      "model_module_version": "1.0.0",
      "model_name": "FloatSliderModel",
      "state": {
       "description": "kappa",
       "layout": "IPY_MODEL_1b1fecc6da85402898497b6c10714580",
       "max": 5,
       "min": 0.1,
       "step": 0.1,
       "style": "IPY_MODEL_a042be625a204cbda02429a2b3b7963e",
       "value": 1
      }
     },
     "7ac19844168747aaa0056df16e0df18a": {
      "model_module": "@jupyter-widgets/base",
      "model_module_version": "1.0.0",
      "model_name": "LayoutModel",
      "state": {}
     },
     "81899cdf43dc4850a4465b631c6f1d0b": {
      "model_module": "@jupyter-widgets/controls",
      "model_module_version": "1.0.0",
      "model_name": "SliderStyleModel",
      "state": {
       "description_width": ""
      }
     },
     "823319015c2746ce97dbc322eba85f93": {
      "model_module": "@jupyter-widgets/controls",
      "model_module_version": "1.0.0",
      "model_name": "LinkModel",
      "state": {
       "source": [
        "IPY_MODEL_401200d683234f029d1a40da3404cfb6",
        "value"
       ],
       "target": [
        "IPY_MODEL_42bd440c33d94789bf0fb91488859d30",
        "value"
       ]
      }
     },
     "82f403a021654c6faa31414a294fa151": {
      "model_module": "@jupyter-widgets/controls",
      "model_module_version": "1.0.0",
      "model_name": "VBoxModel",
      "state": {
       "_dom_classes": [
        "widget-interact"
       ],
       "children": [
        "IPY_MODEL_5cf2d8a539f347af876c1db17e1a2c16",
        "IPY_MODEL_9c3d52f60fdc4ac1805a17fcc91a0105",
        "IPY_MODEL_9d9f7e3759494245be37848521218d50",
        "IPY_MODEL_42bd440c33d94789bf0fb91488859d30",
        "IPY_MODEL_e7929170b229493b8cc48db4e44305a8"
       ],
       "layout": "IPY_MODEL_17343b14e5484a0fbca94f37fe16544a"
      }
     },
     "83658e284dde47a18cbbeaccf6c7cf4e": {
      "model_module": "@jupyter-widgets/controls",
      "model_module_version": "1.0.0",
      "model_name": "LinkModel",
      "state": {
       "source": [
        "IPY_MODEL_a8f0adf9c2284b46a3696e5b6f5cfb8c",
        "value"
       ],
       "target": [
        "IPY_MODEL_fd383ebd05fa47d2a631045c12961c07",
        "value"
       ]
      }
     },
     "8567d2d5c32d445da95d0c6b0526249a": {
      "model_module": "@jupyter-widgets/controls",
      "model_module_version": "1.0.0",
      "model_name": "LinkModel",
      "state": {
       "source": [
        "IPY_MODEL_15cfcd1bf0714625a57c50b10f12d062",
        "value"
       ],
       "target": [
        "IPY_MODEL_85cdc085f5244b1b943c81bb8d8cc270",
        "value"
       ]
      }
     },
     "85cdc085f5244b1b943c81bb8d8cc270": {
      "model_module": "@jupyter-widgets/controls",
      "model_module_version": "1.0.0",
      "model_name": "FloatSliderModel",
      "state": {
       "description": "time",
       "layout": "IPY_MODEL_15b2a3cbfe164d70902e1fcd148dee05",
       "max": 50,
       "style": "IPY_MODEL_277f938144fe4816b8eac5d5ab0fade1"
      }
     },
     "86c7fde7ae2d45809da5ff8f58bd1bc2": {
      "model_module": "@jupyter-widgets/controls",
      "model_module_version": "1.0.0",
      "model_name": "SliderStyleModel",
      "state": {
       "description_width": ""
      }
     },
     "8fb5680447414672bb745f03dcbf64ca": {
      "model_module": "@jupyter-widgets/controls",
      "model_module_version": "1.0.0",
      "model_name": "LinkModel",
      "state": {
       "source": [
        "IPY_MODEL_d42676d548374d2db61c7706f4d157f4",
        "value"
       ],
       "target": [
        "IPY_MODEL_f14ea7864af64dbbb396e8f5546c08ee",
        "value"
       ]
      }
     },
     "90cce143d6244a9d81b91176b890234c": {
      "model_module": "@jupyter-widgets/output",
      "model_module_version": "1.0.0",
      "model_name": "OutputModel",
      "state": {
       "layout": "IPY_MODEL_637fe16ee8e847ceada6e158e88435a9",
       "outputs": [
        {
         "data": {
          "image/png": "iVBORw0KGgoAAAANSUhEUgAAAv8AAAJDCAYAAACc83ssAAAABHNCSVQICAgIfAhkiAAAAAlwSFlz\nAAALEgAACxIB0t1+/AAAADl0RVh0U29mdHdhcmUAbWF0cGxvdGxpYiB2ZXJzaW9uIDIuMS4wLCBo\ndHRwOi8vbWF0cGxvdGxpYi5vcmcvpW3flQAAG31JREFUeJzt3Xmw3eV93/HPOeeeu0hISEKIXewC\nxGIbJBvi2CbglRo7ieuZuO6kaVp74ng6XdI4Tkon081JPHXaqdtO29hD3Lgz7TR27XoSQ5Oxkzg2\nNotsMEgIIQESIAFi0S7ds/WPq9XoXiEBulf6vl7/cIb7nPP7nT/u777P83ueo8ZgMAgAAHDya073\nCQAAAMeH+AcAgCLEPwAAFCH+AQCgCPEPAABFiH8AAChC/AMAQBHiHwAAihD/AABQhPgHAIAixD8A\nABQh/gEAoAjxDwAARYh/AAAoQvwDAEAR4h8AAIoQ/wAAUIT4BwCAIsQ/AAAUIf4BAKAI8Q8AAEWI\nfwAAKEL8AwBAEeIfAACKEP8AAFCE+AcAgCLEPwAAFCH+AQCgCPEPAABFiH8AAChC/AMAQBHiHwAA\nihD/AABQhPgHAIAixD8AABQh/gEAoAjxDwAARYh/AAAoQvwDAEAR4h8AAIoQ/wAAUIT4BwCAIsQ/\nAAAUIf4BAKAI8Q8AAEWIfwAAKEL8AwBAEeIfAACKEP8AAFCE+AcAgCLEPwAAFCH+AQCgCPEPAABF\niH8AAChC/AMAQBHiHwAAihD/AABQhPgHAIAixD8AABQh/gEAoAjxDwAARYh/AAAoQvwDAEAR4h8A\nAIoQ/wAAUIT4BwCAIsQ/AAAUIf4BAKAI8Q8AAEWIfwAAKEL8AwBAEeIfAACKEP8AAFCE+AcAgCLE\nPwAAFCH+AQCgCPEPAABFiH8AAChC/AMAQBHiHwAAihD/AABQhPgHAIAixD8AABQh/gEAoAjxDwAA\nRYh/AAAoQvwDAEAR4h8AAIoQ/wAAUIT4BwCAIsQ/AAAUIf4BAKAI8Q8AAEWIfwAAKEL8AwBAEeIf\nAACKEP8AAFCE+AcAgCLEPwAAFCH+AQCgCPEPAABFiH8AAChC/AMAQBHiHwAAihD/AABQhPgHAIAi\nxD8AABQh/gEAoAjxDwAARYh/AAAoQvwDAEAR4h8AAIoQ/wAAUIT4BwCAIsQ/AAAUIf4BAKAI8Q8A\nAEWIfwAAKEL8AwBAEeIfAACKEP8AAFCE+AcAgCLEPwAAFCH+AQCgCPEPAABFiH8AAChC/AMAQBHi\nHwAAihD/AABQhPgHAIAixD8AABQh/gEAoAjxDwAARYh/AAAoQvwDAEAR4h8AAIoQ/wAAUIT4BwCA\nIsQ/AAAUIf4BAKAI8Q8AAEWIfwAAKEL8AwBAEeIfAACKEP8AAFCE+AcAgCKGpuOgp965ajAdxwUA\ngJPFlvdc0Tja55j5BwCAIsQ/AAAUIf4BAKAI8Q8AAEWIfwAAKEL8AwBAEeIfAACKEP8AAFCE+AcA\ngCLEPwAAFCH+AQCgCPEPAABFiH8AAChC/AMAQBHiHwAAihD/AABQhPgHAIAixD8AABQh/gEAoAjx\nDwAARYh/AAAoQvwDAEAR4h8AAIoQ/wAAUIT4BwCAIsQ/AAAUIf4BAKAI8Q8AAEWIfwAAKEL8AwBA\nEeIfAACKEP8AAFCE+AcAgCLEPwAAFCH+AQCgCPEPAABFiH8AAChC/AMAQBHiHwAAihD/AABQhPgH\nAIAixD8AABQh/gEAoAjxDwAARYh/AAAoQvwDAEAR4h8AAIoQ/wAAUIT4BwCAIsQ/AAAUIf4BAKAI\n8Q8AAEWIfwAAKEL8AwBAEeIfAACKEP8AAFCE+AcAgCLEPwAAFCH+AQCgCPEPAABFiH8AAChC/AMA\nQBHiHwAAihD/AABQhPgHAIAixD8AABQh/gEAoAjxDwAARYh/AAAoQvwDAEAR4h8AAIoQ/wAAUIT4\nBwCAIsQ/AAAUIf4BAKAI8Q8AAEWIfwAAKEL8AwBAEeIfAACKEP8AAFCE+AcAgCLEPwAAFCH+AQCg\nCPEPAABFiH8AAChC/AMAQBHiHwAAihD/AABQhPgHAIAixD8AABQh/gEAoAjxDwAARYh/AAAoQvwD\nAEAR4h8AAIoQ/wAAUIT4BwCAIsQ/AAAUIf4BAKAI8Q8AAEWIfwAAKEL8AwBAEeIfAACKEP8AAFCE\n+AcAgCLEPwAAFCH+AQCgCPEPAABFiH8AAChC/AMAQBHiHwAAihD/AABQhPgHAIAixD8AABQh/gEA\noAjxDwAARYh/AAAoYmi6T4CZb+t7l073KUAZc+9YOd2nMCO5DsHx5Vp08jLzDwAARYh/AAAowrIf\njsrK3z1luk8BTjpLP719uk/hhGI5Arw+LK+rwcw/AAAUIf4BAKAI8Q8AAEWIfwAAKEL8AwBAEeIf\nAACKEP8AAFCE+AcAgCLEPwAAFCH+AQCgCPEPAABFiH8AAChC/AMAQBFD030CwGtokDSfn52hjXPT\nO317eou2+YgPHHeLn30ub3toVdYvWpjvL1mSTltuwEzhtxFOdP2ktWlu2msXpr3utDR6zWTQSJr9\nJEln8YvpXLI53XO2JEP9aT5Z4KQ0GOTK9Rvy7h/en/ffsyLzt29PI0mn1Uq71833L1uSbyy/Ln91\n1dJsHxub7rOF0sQ/nIg6zQw9OS/tRxemvWF+Bo1BGt1mGoODpvl7E4/baxemvX5+0m+me9aWiQ8C\ni1/MYLQ7TScPnAza3W6Wr1mb9927Iu+6/4EM9fppdzsZ7h2YZBjtdJIkNz64MsvWrM1wt5uVi8/N\n19+yPN+65qo8O2/edJ0+lCX+4QTR2DWUoScWZHjN6Wk9MyeDVj+NTiuNNNKY6nlpJJ2JX/X2k/Mz\ntGlO0r84vQU70rn0uXQufCGDU8aPz5sATmizdu/O21Y+nPfffW/eump1eq1mxvaMpzUYHPG5p+zZ\nkyR542NPZMlTT+fTf/y1PHXagnxj+XX5sze9IWvPPCNpTHU1A14L4h9msObWkQw9tiDDaxal+dJY\n0hyk0W0lSRr9Y1vM3+hO/NoPbZ6T1kuzMnr3BenP3rP/g0B//s5M+WkCKGXhlq35mR8/lA/84J5c\n88QTGW8N7Q/5dI7tNWeNTzzxomeeza/c8Wf5+P/782wbHcs3r3tT7rj2jbn/wvMzaNqwBK8H8Q8z\nyd4Nu+11p2X40YVp7GonSRq9ieDPa7xkf98HidbWsTR/eG5G7j8ng3YvnYs2p3PR8+mdYcMwVHTB\nM8/mnT96IB+4+94sfm5zus1mZo9P3CEc7vZe02ONdCeWII6Nd/LRv/xOPvS972fQaORb11yVP112\nbb5/2aUZb7df02NCZeIfplu/kdbGuWmvPS3tx/Zu2O03jnlm/1g1+s2kP/GBYHjlmRl+ZFGSRjqL\nX0jn4s3pnmvDMJysGv1+rlq/Ie9Z8aPccu8PM2/HjjQGg4zuDfOR43QeQ/3+/rsKt959b2564Mdp\n93r5wZJL8403L8tfXXlFts2adZzOBk5O4h+mUWvTKZn9zaVp7F2TP2j2M2j1k9Zg4r9TaPQbB+4I\nHIVBo5/BK4z4Rj8ZXnt6hteenkGrn53vWJPuJc8f9TGBmWvhlq352mc+m9O2bU+SdJvN7BoeziDJ\n+NDUmTDU72fW+LHtGdo6OvqKxvUbzbzjoVV5x0Or0ms08h//xnvzX255zzEdExD/MK1683dl501r\njvp5zW0jGb1ncXIsd9+H+hm/ctPEkp6j1Fu44xgOCMxkL50yO7f97Y8c9fOGer38+z+4/ZiO2U/y\nF1dfmW8uu/aon/vE6QuP6ZjABPEP02mkl+75Lx7105rPv7rb3r2F24/puMDJp9tq5S+uvvKon9fu\nvrqvC37szDOO6bjAq2MrHwAAFCH+AQCgCPEPAABFiH8AAChC/AMAQBHiHwAAihD/AABQhPgHAIAi\nxD8AABQh/gEAoAjxDwAARYh/AAAoQvwDAEAR4h8AAIoYmu4TAA516+/vzNpn+zlvQSN3fmp2do4P\n8tV7OvnmA908vrmf8W5y/rzd+aU8nY/MOi/NRmP/cx8d35H/vnVDvrPr+Wzo7spwo5nrRubl1+Zf\nnDeOnjqN7wo40Wz/+K3pr1+bxlnnZc7td2awe2c6d341nb/8ZvpPPZ6Mj+eWXit/Z+65+YU557gW\nwQlC/MMMsqczyOOb+0mSS85o5v71vXzqf+7OhhcGh4xb+Uw3n8rDWTV3R/71wivSHwzy+Zcey++/\nuDbdHBi7a9DPt3Ztznd3v5D/ddayLB+dd1zfD3BiGozvSf/Jx5MkrcWXpPvw/dn1e5/KYOOGQ8Y9\nmOTXN6/MyvFtR3Utus61CKaN+IcZ5JFN/fQm2j/j3eRjX9yVXj/58JuHcu35rXT7ybdXdfOtlb0k\nye1bN+Sjc8/N7VvW539seyoXt2flQ6ecnQvaY9nY3ZPbt67Pk93d2TPo5189vzr/95y3TOO7A04U\n/cceSfoT15lBZzw7f+tjSa+X9vs+nNaV1ya9bnp3fSud7387ydFfi77mWgTTRvzDDPLwxv7+x99d\n08sVZzfz+V8czdnzDmzP+dDydn7jS518Y9WeJMmvPvNAHunsyCdPvSC/seDStA669f7hOWfn7Ru+\nm5f6nazYsyVb+53MyYGfAxxOb93DBx6v+G6aF1+RWb/9+TQXnb3//7dv/mDe/gvvyf/ZvjHJ0V+L\ngOlhwy/MIA8/fSD+z57XyBf+3tgh4b/PB64c3f/4kc6O/NLc8/Jbpy055I9tkpzWGs6NY6clSQZJ\nnuuOvz4nDpxUemsPxH9j0dmZ9ZkvHBL++/z8nAP/72iuRZtdi2DaiH+YQVY93dv/+DdvHcn82Yef\npZ8/duBX98zWSG5bsGTS15zfau9/PNLwKw8cWX/tqv2PRz/xm2meOv+w4w6+vhzNtWjYtQimjWU/\nMEMMBoM8smli5v/seY3ctLQ16diNWw/cIfjInHMy1px87IburiRJK42cMTSSZOK57/7sjjz5ExuJ\nj+Svb5udBadYNgQns8FgkN7jjySZmPUfuv6mScc+3dm9//HRX4sOtfsPPpvxr/zhy584MprmOeen\nfdOtGf65X0yjJV3g1fAbBDPEE5sH2bn3Tvhbl7TSaEwe2auf6+5/fOOshVO+7urx7UmSi9qz0m40\nM0g/nf4gyy5sZdkFh4793qO9PLt1kGsvaGbxgkNn5maNNIQ/FNB/6olk184kydB1b53yWrRqfNv+\nx0d7LfpJ+5YaDS1/Wxqn7l0i1O2k/9QT6a95MHvWrc7g2Y0Z/dV/dnRvCDiE+IcZYtXGA0t+rj53\n8tmzJFn57MRmuaE0ctXwnEnHbel1sqE7MTN31ciBce1mI5/58OjLxt/yb3ckSf7Ru0ey7KKpzwE4\nOfXXHVjy01py9ZRjH9yzNcmxX4sOOe5jq5Mko//gt1+2v2DPV7+UPf/t9zJ+xx9n5O//ehrDw0d+\nI8BhWXQHM8Sqgzb7Lj1n6l/NVc9MzPxfOjw7o1PcZn/ooFm5q4bnTvmau8YHWf/8xDKgJWe5NEBV\nvUcPiv9Llk45dt815tVei/rPbcpgy4vJ2Kw0Tj/rZT9v3/T+iQfjezLYvmXKcwKmZuYfZoh93/Qz\n1Jr4B74m89KOQTZumxh75fCcDDL5uv19s3LJxGzbIIOkd/jXfmRTP/1Bcta8RuaOWd4DVe3/ms+h\noTQvuGTScf2tL+XpvbP5S4fnpjfF8qAfHxT/S0fmZvATY3vrJmb9m4svPuwyo8H2vc8fGU1j/tTL\ni4CpiX+YIfZ9x/8li5oZHpr8j+jKg74RaOsF1+S/XnT9pGO/vuLZ5IWJx/e84eY8ODyWU5tbcst5\nd79s7L7Nxpeb9YfS+nvX3jfPvySN9uTLa/bs3RScJC9c95b8hzfdOOnYP73zy8nzE4//+oM/n/tG\nZ+frb1l+4Jh7lxq1Fl982Od3vv2NJEn7re+acg8CcGTiH2aAzdv62bxtYgb/irOPsOTnoOVB91/z\nM1l93lWTjn36ri8lSVpzF+V/v+HtSZILmutzS7v/srGr9374uEz8Q1n9Fzdn8OLmJEnr4iumHNs7\n6OtAf/D+n8t9Vy+bdOz2r/2nJBPfHvRHP/uzh3mtvR84Dor/QbeT/jNPpXPnVzP+lT9M85zzM/LL\n/+SVvxngsMQ/zABHtd7/oLHDiy6adNyg20nn+Scnxp0x+bh9Ht674fiys2z0haoO/n7/I6333783\noNFI66LLJx03GB9P/8l1e1/z8B8o+nuXGu354uey54ufO/SHzVaGP/zLGfmbfzeNOfOO9BaAIxD/\nMAPsW/KTJFecfYRv+nlqItJPmb8gzZFZk44b3/xE0p/YGDx8xuFvpR9szd5lP5edaeYfqjr4X/Zt\nHmHmv//oyolxZ52XxuxTJh/3xJqkO3EtOtzdhMHunelv3JAkab/zg0kmlvUMep0Mnnk6vVU/yvjX\nv5zWRZen/Y73HdX7AV5O/MMMsG+zb7Mx9bKbHXsOfCPP/LPOnPI1x59Zt//xkWb+n3qhn227k7F2\nsvg062mhqv2bfZvNtC66bNJxg1070t+4fmLoke4QHOEDRW/d6mQwSGPRWRn7p7/zsp937/1Odv7z\nX8muf3dbWm+6Ic25Zv/h1TDFBzPAviU35y9sZPbIFP+418aJb+RJkvlnTB3/nWfX7n88vGjqmf99\ndx4uPbOZZlP8Q1X7N/uefX4aY7MnHddbtzrpT1w3jmZvwOHG7jvmZEuHhpa9beLrP3fvSv+RB6d+\nA8ARmfmHGeBPfm3yP7IHu/aCVlb+7sTt9X+5/adzV2fysQve9YkseNcnXtHr2uwLJMkpX/iTVzRu\n6MprM/eOla9o7Ngnb8vYJ2+b9Of77jY0L55830CjPZxBkkG/N+kY4JXxlx7I6v2bfV0SgONrX/y3\nLppkM/CmpyaWGB1hYzHwyvhLD2T1vs2+vukHOI4G/X76jz+aJGkdZua/t2Fddv6bf5z0+xm68ZY0\nF55xvE8RTjqW/UBxO/YMsuGFiY0EvukHOJ76Tz6W7NmVJNnz5f+8//8POnvS3/Rk+mtWJv1eWtf9\ndMb+4b+YrtOEk4r4h+LWbOpnMEjOmd/IKaM2+wLHT3/d6v2PO3/+tQM/aA+nMW9Bhm64Ke2bb037\np945DWcHJyfxD8W98fwDm4gBjqf2jbekfeMt030aUIp7/AAAUIT4BwCAIsQ/AAAUIf4BAKAI8Q8A\nAEWIfwAAKEL8AwBAEeIfAACKEP8AAFCE+AcAgCLEPwAAFCH+AQCgCPEPAABFiH8AAChC/AMAQBFD\n030CUNlgkKzuXZK7OsuyonNNdg9GXvFzn+8vOKZjPtU/Mx/b8rlXPH6o0c01QytzQ/veXD20Kq1G\n/5iOCwBMP/EP06jRSC4fejSXDz2avzX6lazoXJO7Osvyg8512TqY+7ocs5PhPNk/Z8oxY9mZ5e37\nc/3wvXlze0VmN3a9LucCABxf4h9miJFGJzcM35cbhu9Lb9DIyu5luauzPHd1lmVT/4zX/fjzGy/m\n+vZ9uWH43rxx6MdpN3qv+zEBgONL/MMM1GoMcnX74Vzdfjgfzx/lse7ifK+zLHd1lmdt78LX7Djn\nNJ/ODe1781PD9+Ty1po0Gq/ZSwMAM5D4hxPAhUPrc+HQ+nx07Kt5tn9a7hqfuCPwYPfy9I7i17iR\nfpa01uWG9j25YfieLG49/TqeNQAw04h/OMEsaj6fD47ekQ+O3pFt/dm5u3Nt7uosy32dN2R3Rl82\nfiidvGHoodwwfG+ub9+X05ovTsNZAwAzgfiHE9ic5o7cPPKd3DzynYwP2lnRuTp3dZbnge7SLGmt\nzQ3D92R5+0c27AIAScQ/nDSGG51cP7wi1w+vmO5TAQBmKP/IFwAAFCH+AQCgCPEPAABFiH8AAChC\n/AMAQBHiHwAAihD/AABQhPgHAIAixD8AABQh/gEAoAjxDwAARYh/AAAoQvwDAEAR4h8AAIoQ/wAA\nUMTQdJ8AJ5aln94+3acAFLf1vUun+xQATlhm/gEAoAjxDwAARVj2wxHNvWPldJ8CUJzrEMBrw8w/\nAAAUIf4BAKAI8Q8AAEWIfwAAKEL8AwBAEeIfAACKEP8AAFCE+AcAgCLEPwAAFCH+AQCgCPEPAABF\niH8AAChC/AMAQBHiHwAAihD/AABQhPgHAIAixD8AABQh/gEAoAjxDwAARYh/AAAoQvwDAEAR4h8A\nAIoQ/wAAUIT4BwCAIsQ/AAAUIf4BAKAI8Q8AAEWIfwAAKEL8AwBAEeIfAACKEP8AAFCE+AcAgCLE\nPwAAFCH+AQCgCPEPAABFiH8AAChC/AMAQBHiHwAAihD/AABQhPgHAIAixD8AABQh/gEAoAjxDwAA\nRYh/AAAoQvwDAEAR4h8AAIoQ/wAAUIT4BwCAIsQ/AAAUIf4BAKAI8Q8AAEWIfwAAKEL8AwBAEeIf\nAACKEP8AAFCE+AcAgCLEPwAAFCH+AQCgCPEPAABFiH8AAChC/AMAQBHiHwAAihD/AABQhPgHAIAi\nxD8AABQh/gEAoAjxDwAARYh/AAAoQvwDAEAR4h8AAIoQ/wAAUIT4BwCAIsQ/AAAUIf4BAKAI8Q8A\nAEWIfwAAKEL8AwBAEeIfAACKEP8AAFCE+AcAgCLEPwAAFCH+AQCgCPEPAABFiH8AAChC/AMAQBHi\nHwAAihD/AABQhPgHAIAixD8AABQh/gEAoAjxDwAARYh/AAAoQvwDAEAR4h8AAIoQ/wAAUIT4BwCA\nIsQ/AAAUIf4BAKAI8Q8AAEWIfwAAKEL8AwBAEeIfAACKEP8AAFCE+AcAgCLEPwAAFCH+AQCgCPEP\nAABFiH8AAChC/AMAQBHiHwAAihD/AABQhPgHAIAixD8AABQh/gEAoAjxDwAARYh/AAAoYmg6Dnr7\n9gem47AAAHASueKon2HmHwAAihD/AABQhPgHAIAixD8AABQh/gEAoAjxDwAARYh/AAAoQvwDAEAR\n4h8AAIoQ/wAAUIT4BwCAIsQ/AAAUIf4BAKAI8Q8AAEWIfwAAKEL8AwBAEeIfAACKEP8AAFCE+AcA\ngCLEPwAAFCH+AQCgCPEPAABFiH8AAChC/AMAQBHiHwAAihD/AABQhPgHAIAixD8AABQh/gEAoAjx\nDwAARYh/AAAoQvwDAEAR4h8AAIoQ/wAAUIT4BwCAIsQ/AAAUIf4BAKAI8Q8AAEWIfwAAKEL8AwBA\nEeIfAACKEP8AAFCE+AcAgCLEPwAAFCH+AQCgCPEPAABFiH8AAChC/AMAQBHiHwAAihD/AABQhPgH\nAIAixD8AABQh/gEAoAjxDwAARYh/AAAoQvwDAEAR4h8AAIoQ/wAAUIT4BwCAIsQ/AAAUIf4BAKAI\n8Q8AAEWIfwAAKEL8AwBAEeIfAACKEP8AAFCE+AcAgCIag8Fgus8BAAA4Dsz8AwBAEeIfAACKEP8A\nAFCE+AcAgCLEPwAAFCH+AQCgCPEPAABFiH8AAChC/AMAQBHiHwAAihD/AABQhPgHAIAixD8AABQh\n/gEAoAjxDwAARYh/AAAoQvwDAEAR4h8AAIoQ/wAAUIT4BwCAIsQ/AAAUIf4BAKAI8Q8AAEX8fw23\nZTZ81rCrAAAAAElFTkSuQmCC\n",
          "text/plain": "<matplotlib.figure.Figure at 0x1aa70c80c88>"
         },
         "metadata": {},
         "output_type": "display_data"
        }
       ]
      }
     },
     "930ac247b1224a0b9ad177ec3f3298da": {
      "model_module": "@jupyter-widgets/base",
      "model_module_version": "1.0.0",
      "model_name": "LayoutModel",
      "state": {}
     },
     "9c3d52f60fdc4ac1805a17fcc91a0105": {
      "model_module": "@jupyter-widgets/controls",
      "model_module_version": "1.0.0",
      "model_name": "FloatSliderModel",
      "state": {
       "description": "kappa",
       "layout": "IPY_MODEL_2d3eb73af2da4e2fa7b5527ead6ef957",
       "max": 5,
       "min": 0.1,
       "step": 0.1,
       "style": "IPY_MODEL_740ca05864f4453aa4e5ca782c94d201",
       "value": 1
      }
     },
     "9d9f7e3759494245be37848521218d50": {
      "model_module": "@jupyter-widgets/controls",
      "model_module_version": "1.0.0",
      "model_name": "FloatSliderModel",
      "state": {
       "description": "scale",
       "layout": "IPY_MODEL_b98f6025e6364416be8a08e3f4589dc7",
       "max": 2,
       "step": 0.1,
       "style": "IPY_MODEL_2b85c966b2e443c9b8e344770286d318",
       "value": 1
      }
     },
     "9e4428489a2346799e7a2b14a2c9945a": {
      "model_module": "@jupyter-widgets/base",
      "model_module_version": "1.0.0",
      "model_name": "LayoutModel",
      "state": {}
     },
     "9f3efdc780ed4f2b9f2becefa7e1ade6": {
      "model_module": "@jupyter-widgets/controls",
      "model_module_version": "1.0.0",
      "model_name": "SliderStyleModel",
      "state": {
       "description_width": ""
      }
     },
     "a042be625a204cbda02429a2b3b7963e": {
      "model_module": "@jupyter-widgets/controls",
      "model_module_version": "1.0.0",
      "model_name": "SliderStyleModel",
      "state": {
       "description_width": ""
      }
     },
     "a06ecdd894c8456496566c2d5ddca203": {
      "model_module": "@jupyter-widgets/output",
      "model_module_version": "1.0.0",
      "model_name": "OutputModel",
      "state": {
       "layout": "IPY_MODEL_ae43ff3d12f8490d82e0d2dc96202a1c",
       "outputs": [
        {
         "data": {
          "image/png": "iVBORw0KGgoAAAANSUhEUgAAAv8AAAJDCAYAAACc83ssAAAABHNCSVQICAgIfAhkiAAAAAlwSFlz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\nZTZ81rCrAAAAAElFTkSuQmCC\n",
          "text/plain": "<matplotlib.figure.Figure at 0x200c37a8400>"
         },
         "metadata": {},
         "output_type": "display_data"
        }
       ]
      }
     },
     "a0858ec39bfd4408b55fa3223a9cc8fa": {
      "model_module": "@jupyter-widgets/controls",
      "model_module_version": "1.0.0",
      "model_name": "SliderStyleModel",
      "state": {
       "description_width": ""
      }
     },
     "a8f0adf9c2284b46a3696e5b6f5cfb8c": {
      "model_module": "@jupyter-widgets/controls",
      "model_module_version": "1.0.0",
      "model_name": "PlayModel",
      "state": {
       "description": "Press to view what happens",
       "layout": "IPY_MODEL_56fdee04db2b4f0eaee5cd94809b57c8",
       "max": 50,
       "style": "IPY_MODEL_fd93d42b9474443986f84a262d97b776"
      }
     },
     "ae43ff3d12f8490d82e0d2dc96202a1c": {
      "model_module": "@jupyter-widgets/base",
      "model_module_version": "1.0.0",
      "model_name": "LayoutModel",
      "state": {}
     },
     "ae8629bdb43448769650eddf121da93d": {
      "model_module": "@jupyter-widgets/base",
      "model_module_version": "1.0.0",
      "model_name": "LayoutModel",
      "state": {}
     },
     "b2b6e5db5a454ce0a7410bc58b605b9e": {
      "model_module": "@jupyter-widgets/base",
      "model_module_version": "1.0.0",
      "model_name": "LayoutModel",
      "state": {}
     },
     "b6f4535712854b9aa12618c16a090a9c": {
      "model_module": "@jupyter-widgets/controls",
      "model_module_version": "1.0.0",
      "model_name": "VBoxModel",
      "state": {
       "_dom_classes": [
        "widget-interact"
       ],
       "children": [
        "IPY_MODEL_71dd1b26e92b4ea5aa0d1d2621174867",
        "IPY_MODEL_225d0de74e874fa48aa2d289fe00dacb",
        "IPY_MODEL_cd7cb596ce424111b9b7ce9c0ad0c070",
        "IPY_MODEL_85cdc085f5244b1b943c81bb8d8cc270",
        "IPY_MODEL_727fba162c744bf6b2cdc24f50ad47f9"
       ],
       "layout": "IPY_MODEL_5d0013ff089841d687035c8a465cc5d2"
      }
     },
     "b7a5d42af5c143b0b8f0208ca8cc0b31": {
      "model_module": "@jupyter-widgets/base",
      "model_module_version": "1.0.0",
      "model_name": "LayoutModel",
      "state": {}
     },
     "b98f6025e6364416be8a08e3f4589dc7": {
      "model_module": "@jupyter-widgets/base",
      "model_module_version": "1.0.0",
      "model_name": "LayoutModel",
      "state": {}
     },
     "bdec7620a3df412c9704948033570773": {
      "model_module": "@jupyter-widgets/base",
      "model_module_version": "1.0.0",
      "model_name": "LayoutModel",
      "state": {}
     },
     "c1b09a967eb14ae3933f1edd2b5c06ad": {
      "model_module": "@jupyter-widgets/controls",
      "model_module_version": "1.0.0",
      "model_name": "SliderStyleModel",
      "state": {
       "description_width": ""
      }
     },
     "cd7cb596ce424111b9b7ce9c0ad0c070": {
      "model_module": "@jupyter-widgets/controls",
      "model_module_version": "1.0.0",
      "model_name": "FloatSliderModel",
      "state": {
       "description": "scale",
       "layout": "IPY_MODEL_dd963c6969a94226b0d8f03f4eb39d3f",
       "max": 2,
       "step": 0.1,
       "style": "IPY_MODEL_1e4e9e6e8f2c4b1cbc4226a14f798b9c",
       "value": 1
      }
     },
     "d0572eb71d1f4eb0aec29d2235eb54ca": {
      "model_module": "@jupyter-widgets/controls",
      "model_module_version": "1.0.0",
      "model_name": "FloatSliderModel",
      "state": {
       "description": "lam",
       "layout": "IPY_MODEL_274801026781453587b7bcbe58b35388",
       "max": 1,
       "step": 0.01,
       "style": "IPY_MODEL_6af20cdfe96a4e2d9a3903612cd7f8ca",
       "value": 1
      }
     },
     "d299eee8f8514bf0a2b80a46a9aefbd4": {
      "model_module": "@jupyter-widgets/controls",
      "model_module_version": "1.0.0",
      "model_name": "SliderStyleModel",
      "state": {
       "description_width": ""
      }
     },
     "d42676d548374d2db61c7706f4d157f4": {
      "model_module": "@jupyter-widgets/controls",
      "model_module_version": "1.0.0",
      "model_name": "PlayModel",
      "state": {
       "description": "Press to view what happens",
       "layout": "IPY_MODEL_b7a5d42af5c143b0b8f0208ca8cc0b31",
       "max": 50,
       "style": "IPY_MODEL_3bca3e1dae9248d1b060e6b9b2d8ad71"
      }
     },
     "d5f5cbd187494b239d992667506b07a0": {
      "model_module": "@jupyter-widgets/base",
      "model_module_version": "1.0.0",
      "model_name": "LayoutModel",
      "state": {}
     },
     "d7c70b12357542a6a69f081fd407e5ef": {
      "model_module": "@jupyter-widgets/controls",
      "model_module_version": "1.0.0",
      "model_name": "SliderStyleModel",
      "state": {
       "description_width": ""
      }
     },
     "dbb8e4622225425db0d4e946d0f9291c": {
      "model_module": "@jupyter-widgets/controls",
      "model_module_version": "1.0.0",
      "model_name": "VBoxModel",
      "state": {
       "_dom_classes": [
        "widget-interact"
       ],
       "children": [
        "IPY_MODEL_d0572eb71d1f4eb0aec29d2235eb54ca",
        "IPY_MODEL_f28056402c1d4e0bac317e7d817b7564",
        "IPY_MODEL_5d41c8b005e248919954ddb24e3121a0",
        "IPY_MODEL_f14ea7864af64dbbb396e8f5546c08ee",
        "IPY_MODEL_90cce143d6244a9d81b91176b890234c"
       ],
       "layout": "IPY_MODEL_4f1efc1049a0439890c611eb4493c095"
      }
     },
     "dbfc66caac08400592046f4dcb571b10": {
      "model_module": "@jupyter-widgets/controls",
      "model_module_version": "1.0.0",
      "model_name": "LinkModel",
      "state": {
       "source": [
        "IPY_MODEL_26ecf3717646489abcfaab7043fa0750",
        "value"
       ],
       "target": [
        "IPY_MODEL_3a554479fd2645b28a1879709bea2dc2",
        "value"
       ]
      }
     },
     "dd963c6969a94226b0d8f03f4eb39d3f": {
      "model_module": "@jupyter-widgets/base",
      "model_module_version": "1.0.0",
      "model_name": "LayoutModel",
      "state": {}
     },
     "e0077c6a5a0b4878b2cae9a07f76374c": {
      "model_module": "@jupyter-widgets/controls",
      "model_module_version": "1.0.0",
      "model_name": "SliderStyleModel",
      "state": {
       "description_width": ""
      }
     },
     "e286bb58ede64a02b0df7fccf2fce1aa": {
      "model_module": "@jupyter-widgets/base",
      "model_module_version": "1.0.0",
      "model_name": "LayoutModel",
      "state": {}
     },
     "e54adf0e576c48f1baff606cf4eb71f8": {
      "model_module": "@jupyter-widgets/base",
      "model_module_version": "1.0.0",
      "model_name": "LayoutModel",
      "state": {}
     },
     "e7929170b229493b8cc48db4e44305a8": {
      "model_module": "@jupyter-widgets/output",
      "model_module_version": "1.0.0",
      "model_name": "OutputModel",
      "state": {
       "layout": "IPY_MODEL_930ac247b1224a0b9ad177ec3f3298da",
       "outputs": [
        {
         "data": {
          "image/png": "iVBORw0KGgoAAAANSUhEUgAAAv8AAAJDCAYAAACc83ssAAAABHNCSVQICAgIfAhkiAAAAAlwSFlz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\nZTZ81rCrAAAAAElFTkSuQmCC\n",
          "text/plain": "<matplotlib.figure.Figure at 0x181f65b0c18>"
         },
         "metadata": {},
         "output_type": "display_data"
        }
       ]
      }
     },
     "eccf75d860f5474e9d4f261354e795ec": {
      "model_module": "@jupyter-widgets/base",
      "model_module_version": "1.0.0",
      "model_name": "LayoutModel",
      "state": {}
     },
     "f0d383ffb03f48f7a5a825b0dae92df2": {
      "model_module": "@jupyter-widgets/base",
      "model_module_version": "1.0.0",
      "model_name": "LayoutModel",
      "state": {}
     },
     "f14ea7864af64dbbb396e8f5546c08ee": {
      "model_module": "@jupyter-widgets/controls",
      "model_module_version": "1.0.0",
      "model_name": "FloatSliderModel",
      "state": {
       "description": "time",
       "layout": "IPY_MODEL_b2b6e5db5a454ce0a7410bc58b605b9e",
       "max": 50,
       "style": "IPY_MODEL_fe85078d050745d193464f43738abb48"
      }
     },
     "f28056402c1d4e0bac317e7d817b7564": {
      "model_module": "@jupyter-widgets/controls",
      "model_module_version": "1.0.0",
      "model_name": "FloatSliderModel",
      "state": {
       "description": "kappa",
       "layout": "IPY_MODEL_0f80852e61514a4f94f3f5c52c56e965",
       "max": 5,
       "min": 0.1,
       "step": 0.1,
       "style": "IPY_MODEL_6fe8166755d142a4b3c43b2403b0ea5b",
       "value": 1
      }
     },
     "f44a81f7a4dc43e2994f7dab58e38553": {
      "model_module": "@jupyter-widgets/base",
      "model_module_version": "1.0.0",
      "model_name": "LayoutModel",
      "state": {}
     },
     "f4fb049de61a41709b02906fdda50d88": {
      "model_module": "@jupyter-widgets/base",
      "model_module_version": "1.0.0",
      "model_name": "LayoutModel",
      "state": {}
     },
     "f5297ea86b4b45dfb3ff08bf3b1d731f": {
      "model_module": "@jupyter-widgets/controls",
      "model_module_version": "1.0.0",
      "model_name": "FloatSliderModel",
      "state": {
       "description": "scale",
       "layout": "IPY_MODEL_eccf75d860f5474e9d4f261354e795ec",
       "max": 2,
       "step": 0.1,
       "style": "IPY_MODEL_c1b09a967eb14ae3933f1edd2b5c06ad",
       "value": 1
      }
     },
     "f8c0cfd0e9b54f7eb2633c0fa62f759a": {
      "model_module": "@jupyter-widgets/base",
      "model_module_version": "1.0.0",
      "model_name": "LayoutModel",
      "state": {}
     },
     "fd383ebd05fa47d2a631045c12961c07": {
      "model_module": "@jupyter-widgets/controls",
      "model_module_version": "1.0.0",
      "model_name": "FloatSliderModel",
      "state": {
       "description": "time",
       "layout": "IPY_MODEL_f4fb049de61a41709b02906fdda50d88",
       "max": 50,
       "style": "IPY_MODEL_e0077c6a5a0b4878b2cae9a07f76374c"
      }
     },
     "fd93d42b9474443986f84a262d97b776": {
      "model_module": "@jupyter-widgets/controls",
      "model_module_version": "1.0.0",
      "model_name": "DescriptionStyleModel",
      "state": {
       "description_width": ""
      }
     },
     "fe0e0b406fd14d1781a4ad123d5565bb": {
      "model_module": "@jupyter-widgets/base",
      "model_module_version": "1.0.0",
      "model_name": "LayoutModel",
      "state": {}
     },
     "fe85078d050745d193464f43738abb48": {
      "model_module": "@jupyter-widgets/controls",
      "model_module_version": "1.0.0",
      "model_name": "SliderStyleModel",
      "state": {
       "description_width": ""
      }
     }
    },
    "version_major": 2,
    "version_minor": 0
   }
  }
 },
 "nbformat": 4,
 "nbformat_minor": 2
}
